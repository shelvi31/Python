{
 "cells": [
  {
   "cell_type": "markdown",
   "id": "effective-blues",
   "metadata": {},
   "source": [
    "## Python – Star or Asterisk operator (**) /(*** ) **args, ***kwargs"
   ]
  },
  {
   "cell_type": "markdown",
   "id": "historic-independence",
   "metadata": {},
   "source": [
    "In this short tutorial we will see different ways in which Asterisk Operator can make our Pythonic Life Easy!"
   ]
  },
  {
   "cell_type": "markdown",
   "id": "sporting-train",
   "metadata": {},
   "source": [
    "There are a many times when we  see * and ** operators being used in Python. Many Python Programmer even at the intermediate level is often puzzled when it comes to the asterisk ( * ) character in Python. \n",
    "\n",
    "After studying this article, you will have a solid understanding of the asterisk ( * ) operator in Python and become a better coder in the process!"
   ]
  },
  {
   "cell_type": "markdown",
   "id": "indian-compromise",
   "metadata": {},
   "source": [
    "We already know the multiplication functionality of *. Let's get a quick review"
   ]
  },
  {
   "cell_type": "markdown",
   "id": "metropolitan-wonder",
   "metadata": {},
   "source": [
    "#### Simple Multiplication:"
   ]
  },
  {
   "cell_type": "code",
   "execution_count": 1,
   "id": "prostate-boxing",
   "metadata": {},
   "outputs": [
    {
     "name": "stdout",
     "output_type": "stream",
     "text": [
      "20\n"
     ]
    }
   ],
   "source": [
    "print(5*4)"
   ]
  },
  {
   "cell_type": "markdown",
   "id": "published-necklace",
   "metadata": {},
   "source": [
    "#### Exponential value of any integer value:"
   ]
  },
  {
   "cell_type": "code",
   "execution_count": 2,
   "id": "selected-robinson",
   "metadata": {},
   "outputs": [
    {
     "name": "stdout",
     "output_type": "stream",
     "text": [
      "4\n"
     ]
    }
   ],
   "source": [
    "print(2**2)   "
   ]
  },
  {
   "cell_type": "markdown",
   "id": "capital-bridge",
   "metadata": {},
   "source": [
    "#### Multiplication of a List"
   ]
  },
  {
   "cell_type": "code",
   "execution_count": 4,
   "id": "ambient-census",
   "metadata": {},
   "outputs": [
    {
     "name": "stdout",
     "output_type": "stream",
     "text": [
      "['name ', 'name ', 'name ', 'name ', 'name ']\n"
     ]
    }
   ],
   "source": [
    "list = ['name '] * 5\n",
    "  \n",
    "print(list)"
   ]
  },
  {
   "cell_type": "markdown",
   "id": "proprietary-sleep",
   "metadata": {},
   "source": [
    "### Less Known Uses:"
   ]
  },
  {
   "cell_type": "markdown",
   "id": "metropolitan-current",
   "metadata": {},
   "source": [
    "Before you get started, you should know:\n",
    "- Positional arguments:  are arguments that can be called by their position in the function definition. \n",
    "- Keyword arguments: are arguments that can be called by their name. \n",
    "- Required arguments: are arguments that must passed to the function. \n",
    "- Optional arguments: are argument that can be not passed to the function"
   ]
  },
  {
   "cell_type": "markdown",
   "id": "statewide-analysis",
   "metadata": {},
   "source": [
    "### Case 1: Unpacking a function using positional argument:"
   ]
  },
  {
   "cell_type": "markdown",
   "id": "official-questionnaire",
   "metadata": {},
   "source": [
    "This method is very useful while printing your data in a raw format (without any comma and brackets ). Many of the programmer try to remove comma and bracket by using a convolution of functions, Hence this simple prefix asterisk can solve your problem in unpacking them.  \n"
   ]
  },
  {
   "cell_type": "code",
   "execution_count": 6,
   "id": "possible-marketplace",
   "metadata": {},
   "outputs": [
    {
     "name": "stdout",
     "output_type": "stream",
     "text": [
      "Monday Tuesday Wed Thurs\n",
      "Monday Tuesday Wed Thurs\n"
     ]
    }
   ],
   "source": [
    "arr = [\"Monday\",\"Tuesday\",\"Wed\",\"Thurs\"]\n",
    "print(\" \".join(map(str,arr)))\n",
    "print(*arr)"
   ]
  },
  {
   "cell_type": "markdown",
   "id": "silver-taiwan",
   "metadata": {},
   "source": [
    "As you can see, both line2 of above code and line 3 gives the same result, the line 3 of code using asterisk is much more easy than any other."
   ]
  },
  {
   "cell_type": "markdown",
   "id": "capable-ecology",
   "metadata": {},
   "source": [
    "### Case 2: Passing a Function with an arbitrary number of arguments using * \n",
    "\n",
    "Single asterisk( * ) can also be used in *args. It  is used to pass a number of variable arguments to a function,it is mostly used to pass a non-key argument and variable-length argument list.\n",
    "Note : NON-KEY ARGUMENT\n",
    "\n",
    "Let's see with an example:"
   ]
  },
  {
   "cell_type": "code",
   "execution_count": 5,
   "id": "burning-blood",
   "metadata": {},
   "outputs": [
    {
     "name": "stdout",
     "output_type": "stream",
     "text": [
      "24\n"
     ]
    }
   ],
   "source": [
    "def addition(*args):\n",
    "    return sum(args)\n",
    "\n",
    "print(addition(8,9,7,0))"
   ]
  },
  {
   "cell_type": "markdown",
   "id": "designing-whale",
   "metadata": {},
   "source": [
    "### Case 3: Passing a Function with an arbitrary number of positional argument\n",
    "\n",
    "Double asterisk( ** ) is also used as **kwargs, the double asterisks allow passing keyword argument. This special symbol is used to pass a keyword arguments and variable-length argument list."
   ]
  },
  {
   "cell_type": "code",
   "execution_count": 19,
   "id": "neural-rotation",
   "metadata": {},
   "outputs": [
    {
     "name": "stdout",
     "output_type": "stream",
     "text": [
      "cherry is a fruit\n",
      "cabbage is a vegetable\n",
      "soya is a protein\n"
     ]
    }
   ],
   "source": [
    "def food(**kwargs):\n",
    "    for item in kwargs:\n",
    "        print(f\"{item} is a {kwargs[item]}\")\n",
    "        \n",
    "food(cherry=\"fruit\",cabbage=\"vegetable\",soya=\"protein\")"
   ]
  },
  {
   "cell_type": "markdown",
   "id": "bound-ordinary",
   "metadata": {},
   "source": [
    "#### Passing as Dictionary"
   ]
  },
  {
   "cell_type": "code",
   "execution_count": 22,
   "id": "posted-transcript",
   "metadata": {},
   "outputs": [
    {
     "name": "stdout",
     "output_type": "stream",
     "text": [
      "cherry is a fruit\n",
      "cabbage is a vegetable\n",
      "soya is a protein\n"
     ]
    }
   ],
   "source": [
    "def food(**kwargs):\n",
    "    for item in kwargs:\n",
    "        print(f\"{item} is a {kwargs[item]}\")\n",
    "        \n",
    "dict = {\"cherry\":\"fruit\",\"cabbage\":\"vegetable\",\"soya\":\"protein\"}\n",
    "\n",
    "food(**dict)"
   ]
  },
  {
   "cell_type": "markdown",
   "id": "final-appeal",
   "metadata": {},
   "source": [
    "### Kwargs and Args"
   ]
  },
  {
   "cell_type": "markdown",
   "id": "bizarre-gambling",
   "metadata": {},
   "source": [
    "In the above cases we saw the use of kwargs and args,now let's see in detail what are kwargs and args with examples and code.\n",
    "\n",
    "In Python, we can pass a variable(non-fixed) number of arguments to a function using special symbols. There are two special symbols used for this:\n",
    "\n",
    "Special Symbols Used for passing variable no. of arguments:-\n",
    "\n",
    "1.)*args: for Non-Keyword Arguments\n",
    "\n",
    "2.)**kwargs: for Keyword Arguments"
   ]
  },
  {
   "cell_type": "markdown",
   "id": "electoral-currency",
   "metadata": {},
   "source": [
    "Thus, (*)/*args/**kwargs is used as the wildcard for our function’s argument when we have doubts about the number of  arguments we should pass in a function!"
   ]
  },
  {
   "cell_type": "markdown",
   "id": "comprehensive-commons",
   "metadata": {},
   "source": [
    "#### Example for   *args:"
   ]
  },
  {
   "cell_type": "markdown",
   "id": "dangerous-skating",
   "metadata": {},
   "source": [
    "#### Using args for a variable number of arguments:"
   ]
  },
  {
   "cell_type": "code",
   "execution_count": 8,
   "id": "endangered-congress",
   "metadata": {},
   "outputs": [
    {
     "name": "stdout",
     "output_type": "stream",
     "text": [
      "Ram\n",
      "Sita\n",
      "Ravan\n",
      "Lakshman\n",
      "Hanuman\n",
      "Mandodri\n"
     ]
    }
   ],
   "source": [
    "def var_arg(*argv):\n",
    "    for arg in argv:\n",
    "        print(arg)\n",
    "        \n",
    "var_arg(\"Ram\",\"Sita\",\"Ravan\",\"Lakshman\",\"Hanuman\",\"Mandodri\")"
   ]
  },
  {
   "cell_type": "markdown",
   "id": "fleet-control",
   "metadata": {},
   "source": [
    "#### Using *args for an extra argument + variable number of arguments"
   ]
  },
  {
   "cell_type": "code",
   "execution_count": 10,
   "id": "ambient-circle",
   "metadata": {},
   "outputs": [
    {
     "name": "stdout",
     "output_type": "stream",
     "text": [
      "extra argument:  Introducing\n",
      "Ram\n",
      "Sita\n",
      "Ravan\n",
      "Lakshman\n",
      "Hanuman\n",
      "Mandodri\n"
     ]
    }
   ],
   "source": [
    "def var_arg(arg1,*argv):\n",
    "    print(\"extra argument: \",arg1)\n",
    "    for arg in argv:\n",
    "        print(arg)\n",
    "        \n",
    "var_arg(\"Introducing\",\"Ram\",\"Sita\",\"Ravan\",\"Lakshman\",\"Hanuman\",\"Mandodri\")"
   ]
  },
  {
   "cell_type": "markdown",
   "id": "distinguished-helicopter",
   "metadata": {},
   "source": [
    "#### So, what are Kwargs??"
   ]
  },
  {
   "cell_type": "markdown",
   "id": "extensive-batch",
   "metadata": {},
   "source": [
    "**kwargs in function definitions is used to pass a keyworded, variable-length argument list. We use the name kwargs with the double star. The reason is because the double star allows us to pass through keyword arguments (and any number of them). \n",
    "\n",
    "One can think of the kwargs as being a dictionary that maps each keyword to the value that we pass alongside it. That is why when we iterate over the kwargs there doesn’t seem to be any order in which they were printed out."
   ]
  },
  {
   "cell_type": "markdown",
   "id": "intensive-spider",
   "metadata": {},
   "source": [
    "#### Example for **kwargs"
   ]
  },
  {
   "cell_type": "markdown",
   "id": "unlimited-longer",
   "metadata": {},
   "source": [
    "#### Using **kwargs for variable number of keyword arguments"
   ]
  },
  {
   "cell_type": "code",
   "execution_count": 16,
   "id": "appointed-indication",
   "metadata": {},
   "outputs": [
    {
     "name": "stdout",
     "output_type": "stream",
     "text": [
      "Ram: Sita\n",
      "Ravan: Mandodri\n"
     ]
    }
   ],
   "source": [
    "def var_arg(**kwargs):\n",
    "    for key,value in kwargs.items():\n",
    "        print(\"%s:%s\" %(key,value))\n",
    "        \n",
    "#Driver code        \n",
    "var_arg(Ram =\"Sita\",Ravan=\"Mandodri\")"
   ]
  },
  {
   "cell_type": "markdown",
   "id": "interim-wages",
   "metadata": {},
   "source": [
    "#### Using *kwargs for an extra argument + variable number of keyword arguments"
   ]
  },
  {
   "cell_type": "code",
   "execution_count": 17,
   "id": "likely-indication",
   "metadata": {},
   "outputs": [
    {
     "name": "stdout",
     "output_type": "stream",
     "text": [
      "Couples\n",
      "Ram:Sita\n",
      "Ravan:Mandodri\n"
     ]
    }
   ],
   "source": [
    "def var_arg(arg1,**kwargs):\n",
    "    print(arg1)\n",
    "    for key,value in kwargs.items():\n",
    "        print(\"%s:%s\" %(key,value))\n",
    "        \n",
    "#Driver code        \n",
    "var_arg(\"Couples\",Ram =\"Sita\",Ravan=\"Mandodri\")"
   ]
  },
  {
   "cell_type": "markdown",
   "id": "curious-diamond",
   "metadata": {},
   "source": [
    "let get more clarity for kwargs and args with 2 more examples."
   ]
  },
  {
   "cell_type": "markdown",
   "id": "absent-arizona",
   "metadata": {},
   "source": [
    "#### Using *args and **kwargs to call a function:"
   ]
  },
  {
   "cell_type": "code",
   "execution_count": 37,
   "id": "molecular-worker",
   "metadata": {},
   "outputs": [
    {
     "name": "stdout",
     "output_type": "stream",
     "text": [
      "Ram\n",
      "Ravan\n",
      "Lakshman\n",
      "Ram:Sita\n",
      "Ravan:Mandodri\n",
      "Lakshman:Urmila\n"
     ]
    }
   ],
   "source": [
    "def myFun(*args, **kwargs):\n",
    "    for arg in args:\n",
    "        print(arg)\n",
    "        \n",
    "    for key,value in kwargs.items():\n",
    "        print(\"%s:%s\" %(key,value))\n",
    "\n",
    "        \n",
    "myFun(\"Ram\", \"Ravan\", \"Lakshman\")\n",
    "\n",
    " \n",
    "myFun(Ram = \"Sita\", Ravan = \"Mandodri\", Lakshman = \"Urmila\")\n"
   ]
  },
  {
   "cell_type": "markdown",
   "id": "unlimited-interface",
   "metadata": {},
   "source": [
    "Key Notes: Always Remember :\n",
    "- Single Asterisk (*) : Non-Key Arguments , Variable Length Argument\n",
    "- Double Asterisk (**) : Key-Word Argument , Variable Length Arguments"
   ]
  },
  {
   "cell_type": "markdown",
   "id": "natural-interface",
   "metadata": {},
   "source": [
    "#### References:\n",
    "- https://www.geeksforgeeks.org/args-kwargs-python/\n",
    "- https://www.geeksforgeeks.org/python-star-or-asterisk-operator/"
   ]
  },
  {
   "cell_type": "code",
   "execution_count": null,
   "id": "elementary-great",
   "metadata": {},
   "outputs": [],
   "source": []
  }
 ],
 "metadata": {
  "kernelspec": {
   "display_name": "Python 3",
   "language": "python",
   "name": "python3"
  },
  "language_info": {
   "codemirror_mode": {
    "name": "ipython",
    "version": 3
   },
   "file_extension": ".py",
   "mimetype": "text/x-python",
   "name": "python",
   "nbconvert_exporter": "python",
   "pygments_lexer": "ipython3",
   "version": "3.9.1"
  }
 },
 "nbformat": 4,
 "nbformat_minor": 5
}
