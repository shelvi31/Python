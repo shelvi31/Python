{
 "cells": [
  {
   "cell_type": "markdown",
   "id": "virtual-alabama",
   "metadata": {},
   "source": [
    "In Python, an anonymous function means that a function is without a name. As we already know that the def keyword is used to define a normal function in Python. Similarly, the lambda keyword is used to define an anonymous function in Python. It has the following syntax: \n",
    "\n",
    "Syntax: lambda arguments: expression"
   ]
  },
  {
   "cell_type": "markdown",
   "id": "robust-longer",
   "metadata": {},
   "source": [
    "### Difference between a normal def defined function and lambda function: "
   ]
  },
  {
   "cell_type": "code",
   "execution_count": 4,
   "id": "desirable-oracle",
   "metadata": {},
   "outputs": [
    {
     "name": "stdout",
     "output_type": "stream",
     "text": [
      "125\n",
      "125\n"
     ]
    }
   ],
   "source": [
    "def cube(y):\n",
    "    return y*y*y\n",
    "\n",
    "lambda_cube = lambda y: y*y*y\n",
    "\n",
    "print(cube(5))\n",
    "print(lambda_cube(5))"
   ]
  },
  {
   "cell_type": "markdown",
   "id": "logical-alexander",
   "metadata": {},
   "source": [
    "simplicity of lambda functions:\n",
    "- Lambda definition does not include a “return” statement, it always contains an expression that is returned. \n",
    "- we don’t have to assign it to a variable at all."
   ]
  },
  {
   "cell_type": "markdown",
   "id": "earlier-piano",
   "metadata": {},
   "source": [
    "### Using lambda() Function with filter():"
   ]
  },
  {
   "cell_type": "markdown",
   "id": "mighty-sociology",
   "metadata": {},
   "source": [
    "##### Returning the odd numbers from an input list: "
   ]
  },
  {
   "cell_type": "code",
   "execution_count": 10,
   "id": "defined-webster",
   "metadata": {},
   "outputs": [
    {
     "data": {
      "text/plain": [
       "filter"
      ]
     },
     "execution_count": 10,
     "metadata": {},
     "output_type": "execute_result"
    }
   ],
   "source": [
    "li = [78,67,9,76,12,13,54,65,14]\n",
    "\n",
    "odd_list = (filter(lambda x: x%2 != 0,li))\n",
    "type(odd_list)"
   ]
  },
  {
   "cell_type": "code",
   "execution_count": 11,
   "id": "derived-cooperation",
   "metadata": {},
   "outputs": [
    {
     "name": "stdout",
     "output_type": "stream",
     "text": [
      "[67, 9, 13, 65]\n"
     ]
    }
   ],
   "source": [
    "print(list(odd_list))"
   ]
  },
  {
   "cell_type": "markdown",
   "id": "absent-certification",
   "metadata": {},
   "source": [
    "##### Python 3 code to people above 18 yrs"
   ]
  },
  {
   "cell_type": "code",
   "execution_count": 13,
   "id": "another-worship",
   "metadata": {},
   "outputs": [
    {
     "name": "stdout",
     "output_type": "stream",
     "text": [
      "[90, 59, 21, 60]\n"
     ]
    }
   ],
   "source": [
    "ages = [13, 90, 17, 59, 21, 60, 5]\n",
    "adults = list(filter(lambda x: x>=18,ages))\n",
    "print(adults)"
   ]
  },
  {
   "cell_type": "markdown",
   "id": "alike-telling",
   "metadata": {},
   "source": [
    "### Using lambda() Function with map()"
   ]
  },
  {
   "cell_type": "markdown",
   "id": "systematic-attendance",
   "metadata": {},
   "source": [
    "The map() function in Python takes in a function and a list as an argument. "
   ]
  },
  {
   "cell_type": "markdown",
   "id": "legendary-technician",
   "metadata": {},
   "source": [
    "##### To double all numbers in the list:"
   ]
  },
  {
   "cell_type": "code",
   "execution_count": 20,
   "id": "technical-aaron",
   "metadata": {},
   "outputs": [
    {
     "name": "stdout",
     "output_type": "stream",
     "text": [
      "<class 'map'>\n",
      "[26, 180, 34, 118, 42, 120, 10]\n"
     ]
    }
   ],
   "source": [
    "nos = [13, 90, 17, 59, 21, 60, 5]\n",
    "double = map(lambda x: x*2,nos)      #Filter cannot work here\n",
    "print(type(double))\n",
    "\n",
    "print(list(double))"
   ]
  },
  {
   "cell_type": "markdown",
   "id": "frank-lyric",
   "metadata": {},
   "source": [
    "##### to change all animal names to upper case and return the same"
   ]
  },
  {
   "cell_type": "code",
   "execution_count": 17,
   "id": "uniform-blame",
   "metadata": {},
   "outputs": [
    {
     "name": "stdout",
     "output_type": "stream",
     "text": [
      "['DOG', 'CAT', 'PARROT', 'RABBIT']\n"
     ]
    }
   ],
   "source": [
    "animals = ['dog', 'cat', 'parrot', 'rabbit']\n",
    "\n",
    "ani = list(map(lambda animal: str.upper(animal),animals))\n",
    "print(ani)"
   ]
  },
  {
   "cell_type": "markdown",
   "id": "functioning-coupon",
   "metadata": {},
   "source": [
    "### Using lambda() Function with reduce()"
   ]
  },
  {
   "cell_type": "markdown",
   "id": "million-russell",
   "metadata": {},
   "source": [
    "The function is called with a lambda function and an iterable and a new reduced result is returned. This performs a repetitive operation over the pairs of the iterable.The reduce() function belongs to the  functools module. \n",
    "\n",
    "Example 1:"
   ]
  },
  {
   "cell_type": "markdown",
   "id": "married-doubt",
   "metadata": {},
   "source": [
    "##### to get sum of a list"
   ]
  },
  {
   "cell_type": "code",
   "execution_count": 21,
   "id": "upper-party",
   "metadata": {},
   "outputs": [
    {
     "name": "stdout",
     "output_type": "stream",
     "text": [
      "193\n"
     ]
    }
   ],
   "source": [
    "!pip install functools\n",
    "from functools import reduce\n",
    "li = [5, 8, 10, 20, 50, 100]\n",
    "sum = reduce((lambda x,y: x+y),li)\n",
    "print(sum)"
   ]
  },
  {
   "cell_type": "markdown",
   "id": "breathing-armor",
   "metadata": {},
   "source": [
    "Here the results of previous two elements are added to the next element and this goes on till the end of the list like (((((5+8)+10)+20)+50)+100)."
   ]
  },
  {
   "cell_type": "markdown",
   "id": "quiet-senior",
   "metadata": {},
   "source": [
    "##### using reduce to compute maximum element from list"
   ]
  },
  {
   "cell_type": "code",
   "execution_count": 24,
   "id": "celtic-clear",
   "metadata": {},
   "outputs": [
    {
     "name": "stdout",
     "output_type": "stream",
     "text": [
      "100\n"
     ]
    }
   ],
   "source": [
    "li = [5, 8, 10, 20, 50, 100,99]\n",
    "maxi = reduce((lambda x,y: x if x>y else y),li)\n",
    "print(maxi)"
   ]
  },
  {
   "cell_type": "code",
   "execution_count": null,
   "id": "graphic-bermuda",
   "metadata": {},
   "outputs": [],
   "source": []
  }
 ],
 "metadata": {
  "kernelspec": {
   "display_name": "Python 3",
   "language": "python",
   "name": "python3"
  },
  "language_info": {
   "codemirror_mode": {
    "name": "ipython",
    "version": 3
   },
   "file_extension": ".py",
   "mimetype": "text/x-python",
   "name": "python",
   "nbconvert_exporter": "python",
   "pygments_lexer": "ipython3",
   "version": "3.9.1"
  }
 },
 "nbformat": 4,
 "nbformat_minor": 5
}
