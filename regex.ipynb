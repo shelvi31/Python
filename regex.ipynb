{
 "cells": [
  {
   "cell_type": "markdown",
   "id": "cloudy-mainstream",
   "metadata": {},
   "source": [
    "### Steps of Regular Expression Matching"
   ]
  },
  {
   "cell_type": "markdown",
   "id": "bored-repair",
   "metadata": {},
   "source": [
    "While there are several steps to using regular expressions in Python, each step is fairly simple.\n",
    "\n",
    "- Import the regex module with import re.\n",
    "- Create a Regex object with the re.compile() function. (Remember to use a raw string: 'r.)\n",
    "- Pass the string you want to search into the Regex object’s search() method. This returns a Match object.\n",
    "- Call the Match object’s group() method to return a string of the actual matched text"
   ]
  },
  {
   "cell_type": "markdown",
   "id": "killing-language",
   "metadata": {},
   "source": [
    "#### Matching regex objects\n",
    "\n",
    "A Regex object’s search() method searches the string it is passed for any matches to the regex. \n",
    "Match objects have a group() method that will return the actual matched text from the searched string."
   ]
  },
  {
   "cell_type": "code",
   "execution_count": 5,
   "id": "difficult-treatment",
   "metadata": {},
   "outputs": [
    {
     "name": "stdout",
     "output_type": "stream",
     "text": [
      "Phone no. found: 415-555-4242\n"
     ]
    }
   ],
   "source": [
    "import re\n",
    "\n",
    "#create a Regex object that matches the phone number pattern\n",
    "phoneNumRegex = re.compile(r'\\d\\d\\d\\-\\d\\d\\d-\\d\\d\\d\\d')\n",
    "\n",
    "mobile = phoneNumRegex.search(\"My number is 415-555-4242.\")\n",
    "\n",
    "print(\"Phone no. found: \" +mobile.group())"
   ]
  },
  {
   "cell_type": "markdown",
   "id": "upset-means",
   "metadata": {},
   "source": [
    "#### Grouping with parentheses"
   ]
  },
  {
   "cell_type": "markdown",
   "id": "constant-origin",
   "metadata": {},
   "source": [
    "Matching objects:Say you want to separate the area code from the rest of the phone number. Adding parentheses will create groups in the regex: (\\d\\d\\d)-(\\d\\d\\d-\\d\\d\\d\\d). Then you can use the group() match object method to grab the matching text from just one group."
   ]
  },
  {
   "cell_type": "code",
   "execution_count": 7,
   "id": "virgin-massachusetts",
   "metadata": {},
   "outputs": [
    {
     "name": "stdout",
     "output_type": "stream",
     "text": [
      "415\n"
     ]
    }
   ],
   "source": [
    "phoneNumRegex = re.compile(r'(\\d\\d\\d)-(\\d\\d\\d-\\d\\d\\d\\d)')\n",
    "mo = phoneNumRegex.search('My number is 415-555-4242.')\n",
    "print(mo.group(1))"
   ]
  },
  {
   "cell_type": "code",
   "execution_count": 8,
   "id": "lesbian-warren",
   "metadata": {},
   "outputs": [
    {
     "name": "stdout",
     "output_type": "stream",
     "text": [
      "('415', '555-4242')\n"
     ]
    }
   ],
   "source": [
    "#Retrieve all groups:\n",
    "\n",
    "print(mo.groups())"
   ]
  },
  {
   "cell_type": "markdown",
   "id": "varying-structure",
   "metadata": {},
   "source": [
    "#### Match with Parentheses"
   ]
  },
  {
   "cell_type": "markdown",
   "id": "grave-lebanon",
   "metadata": {},
   "source": [
    "##### using (\\and):"
   ]
  },
  {
   "cell_type": "code",
   "execution_count": 9,
   "id": "norwegian-sending",
   "metadata": {},
   "outputs": [
    {
     "name": "stdout",
     "output_type": "stream",
     "text": [
      "(415)\n"
     ]
    }
   ],
   "source": [
    "import re\n",
    "phoneNumRegex = re.compile(r'(\\(\\d\\d\\d\\)) (\\d\\d\\d-\\d\\d\\d\\d)')\n",
    "mo = phoneNumRegex.search('My phone number is (415) 555-4242.')\n",
    "print(mo.group(1))"
   ]
  },
  {
   "cell_type": "markdown",
   "id": "conservative-hierarchy",
   "metadata": {},
   "source": [
    "#### Matching different Words"
   ]
  },
  {
   "cell_type": "markdown",
   "id": "domestic-wednesday",
   "metadata": {},
   "source": [
    "r’Batman|Tina Fey’ will match either ‘Batman’ or ‘Tina Fey’."
   ]
  },
  {
   "cell_type": "code",
   "execution_count": 14,
   "id": "thrown-hindu",
   "metadata": {},
   "outputs": [
    {
     "name": "stdout",
     "output_type": "stream",
     "text": [
      "Batman\n"
     ]
    }
   ],
   "source": [
    "import re\n",
    "heroRegex = re.compile (r'Batman|Tina Fey')\n",
    "mo1 = heroRegex.search('Batman is  a super hero.')\n",
    "print(mo1.group())"
   ]
  },
  {
   "cell_type": "code",
   "execution_count": null,
   "id": "selected-marshall",
   "metadata": {},
   "outputs": [],
   "source": []
  }
 ],
 "metadata": {
  "kernelspec": {
   "display_name": "Python 3",
   "language": "python",
   "name": "python3"
  },
  "language_info": {
   "codemirror_mode": {
    "name": "ipython",
    "version": 3
   },
   "file_extension": ".py",
   "mimetype": "text/x-python",
   "name": "python",
   "nbconvert_exporter": "python",
   "pygments_lexer": "ipython3",
   "version": "3.9.1"
  }
 },
 "nbformat": 4,
 "nbformat_minor": 5
}
