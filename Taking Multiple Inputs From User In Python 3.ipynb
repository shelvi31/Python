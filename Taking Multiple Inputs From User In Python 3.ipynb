{
 "cells": [
  {
   "cell_type": "markdown",
   "id": "growing-charter",
   "metadata": {},
   "source": [
    "## Taking multiple inputs from user in Python"
   ]
  },
  {
   "cell_type": "markdown",
   "id": "desirable-rebecca",
   "metadata": {},
   "source": [
    "In this short tutorial, we will see all the ways in which we can take multiple inputs from the user in Python."
   ]
  },
  {
   "cell_type": "markdown",
   "id": "referenced-teacher",
   "metadata": {},
   "source": [
    "In Python user can take multiple values or inputs in one line by two methods. \n",
    "\n",
    "- Using split() method\n",
    "- Using List comprehension"
   ]
  },
  {
   "cell_type": "markdown",
   "id": "weird-daughter",
   "metadata": {},
   "source": [
    "### 1. Using split() method : \n",
    "This function helps in getting a multiple inputs from user. It breaks the given input by the specified separator. If a separator is not provided then any white space is a separator. Generally, user use a split() method to split a Python string but one can use it in taking multiple input."
   ]
  },
  {
   "cell_type": "markdown",
   "id": "appointed-basic",
   "metadata": {},
   "source": [
    "#### Syntax : \n",
    "\n",
    "input().split(separator, maxsplit)\n",
    "\n",
    "- separator : \n",
    "This is a delimiter. The string splits at this specified separator. If is not provided then any white space is a separator.\n",
    "\n",
    "- maxsplit : \n",
    "It is a number, which tells us to split the string into maximum of provided number of times. If it is not provided then the default is -1 that means there is no limit."
   ]
  },
  {
   "cell_type": "markdown",
   "id": "adverse-charger",
   "metadata": {},
   "source": [
    "#### a)  Taking two inputs at a time: "
   ]
  },
  {
   "cell_type": "code",
   "execution_count": 1,
   "id": "surface-choice",
   "metadata": {},
   "outputs": [
    {
     "name": "stdout",
     "output_type": "stream",
     "text": [
      "Enter 2 variableshi there\n",
      "a is: hi\n",
      "b is: there\n"
     ]
    }
   ],
   "source": [
    "a,b = input(\"Enter 2 variables\").split()\n",
    "print(\"a is:\",a)\n",
    "print(\"b is:\",b)"
   ]
  },
  {
   "cell_type": "code",
   "execution_count": 2,
   "id": "driven-fiber",
   "metadata": {},
   "outputs": [
    {
     "name": "stdout",
     "output_type": "stream",
     "text": [
      "Enter 2 variables34 56\n",
      "a is: 34\n",
      "b is: 56\n"
     ]
    }
   ],
   "source": [
    "a,b = input(\"Enter 2 variables\").split()\n",
    "print(\"a is:\",a)\n",
    "print(\"b is:\",b)"
   ]
  },
  {
   "cell_type": "markdown",
   "id": "fitted-aluminum",
   "metadata": {},
   "source": [
    "Note: As you can see, the input given can be any : int, string , float etc. We haven't mentioned separator used hence whitespace is considered as default."
   ]
  },
  {
   "cell_type": "markdown",
   "id": "manufactured-uzbekistan",
   "metadata": {},
   "source": [
    "#### b) Taking Inputs with Separator and Maxsplit defined"
   ]
  },
  {
   "cell_type": "code",
   "execution_count": 3,
   "id": "deluxe-given",
   "metadata": {},
   "outputs": [
    {
     "name": "stdout",
     "output_type": "stream",
     "text": [
      "Enter variables: how,are,you\n",
      "how are you\n"
     ]
    }
   ],
   "source": [
    "x,y,z = input(\"Enter variables: \").split(\",\",3)\n",
    "print(x,y,z)"
   ]
  },
  {
   "cell_type": "code",
   "execution_count": 5,
   "id": "palestinian-stuff",
   "metadata": {},
   "outputs": [
    {
     "name": "stdout",
     "output_type": "stream",
     "text": [
      "Enter variables: how,are,you\n",
      "how are you\n"
     ]
    }
   ],
   "source": [
    "x,y,z = input(\"Enter variables: \").split(\",\")\n",
    "print(x,y,z)"
   ]
  },
  {
   "cell_type": "markdown",
   "id": "likely-corpus",
   "metadata": {},
   "source": [
    "Note: Whether or not maxsplit was defined the results were same. For both the above cases only 3 inputs (not more or less can be provided corresponding to defined variables!)"
   ]
  },
  {
   "cell_type": "markdown",
   "id": "genetic-civilian",
   "metadata": {},
   "source": [
    "#### Taking Unlimited Inputs:"
   ]
  },
  {
   "cell_type": "code",
   "execution_count": 6,
   "id": "distinguished-screw",
   "metadata": {},
   "outputs": [
    {
     "name": "stdout",
     "output_type": "stream",
     "text": [
      "Enter variables: how,are,you,dear\n",
      "['how', 'are', 'you', 'dear']\n"
     ]
    }
   ],
   "source": [
    "x= input(\"Enter variables: \").split(\",\")\n",
    "print(x)"
   ]
  },
  {
   "cell_type": "markdown",
   "id": "conscious-emerald",
   "metadata": {},
   "source": [
    "#### c) Taking Multiple Inputs As List"
   ]
  },
  {
   "cell_type": "markdown",
   "id": "grateful-offense",
   "metadata": {},
   "source": [
    "Taking multiple inputs at a time and type casting using list() function."
   ]
  },
  {
   "cell_type": "markdown",
   "id": "about-identity",
   "metadata": {},
   "source": [
    "#### With Map Function:\n",
    "Used Map Function (Optional) to convert thy input into integer."
   ]
  },
  {
   "cell_type": "code",
   "execution_count": 22,
   "id": "satisfactory-establishment",
   "metadata": {},
   "outputs": [
    {
     "name": "stdout",
     "output_type": "stream",
     "text": [
      "Enter multiple value: 67 90 89 54 12 34 09\n",
      "List of students:  [67, 90, 89, 54, 12, 34, 9]\n"
     ]
    }
   ],
   "source": [
    "x = list(map(int, input(\"Enter multiple value: \").split()))\n",
    "print(\"List of students: \", x)"
   ]
  },
  {
   "cell_type": "markdown",
   "id": "administrative-swedish",
   "metadata": {},
   "source": [
    "For the above code, becuase of use of map integer function , our input can only be integers"
   ]
  },
  {
   "cell_type": "markdown",
   "id": "valid-piece",
   "metadata": {},
   "source": [
    "#### Without Map Function:"
   ]
  },
  {
   "cell_type": "code",
   "execution_count": 23,
   "id": "nominated-business",
   "metadata": {},
   "outputs": [
    {
     "name": "stdout",
     "output_type": "stream",
     "text": [
      "Enter multiple value: hey 78 amazing person 2021\n",
      "List of students:  ['hey', '78', 'amazing', 'person', '2021']\n"
     ]
    }
   ],
   "source": [
    "x = list(input(\"Enter multiple value: \").split())\n",
    "print(\"List of students: \", x)"
   ]
  },
  {
   "cell_type": "markdown",
   "id": "sacred-advertiser",
   "metadata": {},
   "source": [
    "Note: Here as we did not use any map function, the type of input can be any!"
   ]
  },
  {
   "cell_type": "markdown",
   "id": "productive-mainland",
   "metadata": {},
   "source": [
    "### 2. Using List Cpmrehensions:"
   ]
  },
  {
   "cell_type": "markdown",
   "id": "internal-tunnel",
   "metadata": {},
   "source": [
    "#### 2 Input at a Time:"
   ]
  },
  {
   "cell_type": "code",
   "execution_count": 24,
   "id": "confirmed-relation",
   "metadata": {},
   "outputs": [
    {
     "name": "stdout",
     "output_type": "stream",
     "text": [
      "Enter 2 values: 6 78\n",
      "x is  6\n",
      "y is 78\n"
     ]
    }
   ],
   "source": [
    "x,y = [int(x) for x in input(\"Enter 2 values: \").split()]\n",
    "print(\"x is \",x)\n",
    "print(\"y is\",y)"
   ]
  },
  {
   "cell_type": "code",
   "execution_count": 25,
   "id": "protected-parallel",
   "metadata": {},
   "outputs": [
    {
     "name": "stdout",
     "output_type": "stream",
     "text": [
      "78 90\n",
      "x is  78\n",
      "y is 90\n"
     ]
    }
   ],
   "source": [
    "x,y = [int(x) for x in input().split()]\n",
    "print(\"x is \",x)\n",
    "print(\"y is\",y)"
   ]
  },
  {
   "cell_type": "markdown",
   "id": "international-screw",
   "metadata": {},
   "source": [
    "#### Taking Multiple Inputs at a time:"
   ]
  },
  {
   "cell_type": "code",
   "execution_count": 27,
   "id": "selective-premises",
   "metadata": {},
   "outputs": [
    {
     "name": "stdout",
     "output_type": "stream",
     "text": [
      "43 12 34 67 09 653 2321 12\n",
      "Number of list is:  [43, 12, 34, 67, 9, 653, 2321, 12]\n"
     ]
    }
   ],
   "source": [
    "x = [int(x) for x in input().split()]\n",
    "print(\"Number of list is: \", x)"
   ]
  },
  {
   "cell_type": "markdown",
   "id": "manufactured-strain",
   "metadata": {},
   "source": [
    "The above examples take input separated by spaces. In case we wish to take input separated by comma (, ), we can use following"
   ]
  },
  {
   "cell_type": "markdown",
   "id": "differential-giving",
   "metadata": {},
   "source": [
    "#### Multiple Input Using Separator"
   ]
  },
  {
   "cell_type": "code",
   "execution_count": 29,
   "id": "advised-acquisition",
   "metadata": {},
   "outputs": [
    {
     "name": "stdout",
     "output_type": "stream",
     "text": [
      "67,432,11,1,2,3,4\n",
      "Number of list is:  [67, 432, 11, 1, 2, 3, 4]\n"
     ]
    }
   ],
   "source": [
    "x = [int(x) for x in input().split(\",\")]\n",
    "print(\"Number of list is: \", x)"
   ]
  },
  {
   "cell_type": "markdown",
   "id": "treated-mauritius",
   "metadata": {},
   "source": [
    "### Some Extra Cheese : Using Strip() method"
   ]
  },
  {
   "cell_type": "markdown",
   "id": "pressed-violation",
   "metadata": {},
   "source": [
    "strip() is an inbuilt function in Python programming language that returns a copy of the string with both leading and trailing characters removed (based on the string argument passed). "
   ]
  },
  {
   "cell_type": "markdown",
   "id": "fitting-saturday",
   "metadata": {},
   "source": [
    "#### Syntax: \n",
    " \n",
    "- string.strip([chars]) , \n",
    "\n",
    "chars - a string specifying the set of characters to be removed. If the optional chars parameter is not given, all leading and trailing whitespaces are removed from the string."
   ]
  },
  {
   "cell_type": "markdown",
   "id": "intimate-antarctica",
   "metadata": {},
   "source": [
    "#### Example:"
   ]
  },
  {
   "cell_type": "code",
   "execution_count": 30,
   "id": "corporate-incident",
   "metadata": {},
   "outputs": [
    {
     "name": "stdout",
     "output_type": "stream",
     "text": [
      "King has the largest army in the entire world\n"
     ]
    }
   ],
   "source": [
    "string = \" the King has the largest army in the entire world the\"\n",
    "\n",
    "# prints the string after removing \"the\" from beginning and end\n",
    "print(string.strip(\" the\"))"
   ]
  },
  {
   "cell_type": "code",
   "execution_count": 32,
   "id": "superior-patrol",
   "metadata": {},
   "outputs": [
    {
     "name": "stdout",
     "output_type": "stream",
     "text": [
      "King has the largest army in the entire world\n"
     ]
    }
   ],
   "source": [
    "string = \" .the King has the largest army in the entire world the.\"\n",
    "\n",
    "# prints the string after removing \".the\" from beginning and end\n",
    "print(string.strip(\" .the\"))"
   ]
  },
  {
   "cell_type": "markdown",
   "id": "recognized-agent",
   "metadata": {},
   "source": [
    "The strip method can make you input clean removing unnecessary inputs."
   ]
  },
  {
   "cell_type": "code",
   "execution_count": null,
   "id": "advanced-bradley",
   "metadata": {},
   "outputs": [],
   "source": []
  }
 ],
 "metadata": {
  "kernelspec": {
   "display_name": "Python 3",
   "language": "python",
   "name": "python3"
  },
  "language_info": {
   "codemirror_mode": {
    "name": "ipython",
    "version": 3
   },
   "file_extension": ".py",
   "mimetype": "text/x-python",
   "name": "python",
   "nbconvert_exporter": "python",
   "pygments_lexer": "ipython3",
   "version": "3.9.1"
  }
 },
 "nbformat": 4,
 "nbformat_minor": 5
}
